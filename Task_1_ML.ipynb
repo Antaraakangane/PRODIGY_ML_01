{
  "nbformat": 4,
  "nbformat_minor": 0,
  "metadata": {
    "colab": {
      "provenance": [],
      "authorship_tag": "ABX9TyOMe/ZBdpXhRJsgZOkQczGP",
      "include_colab_link": true
    },
    "kernelspec": {
      "name": "python3",
      "display_name": "Python 3"
    },
    "language_info": {
      "name": "python"
    }
  },
  "cells": [
    {
      "cell_type": "markdown",
      "metadata": {
        "id": "view-in-github",
        "colab_type": "text"
      },
      "source": [
        "<a href=\"https://colab.research.google.com/github/Antaraakangane/PRODIGY_ML_01/blob/main/Task_1_ML.ipynb\" target=\"_parent\"><img src=\"https://colab.research.google.com/assets/colab-badge.svg\" alt=\"Open In Colab\"/></a>"
      ]
    },
    {
      "cell_type": "code",
      "source": [
        "from sklearn.linear_model import LinearRegression\n",
        "import pandas as pd\n",
        "from sklearn.model_selection import train_test_split\n",
        "from sklearn.metrics import mean_squared_error, r2_score\n",
        "\n",
        "dataFrame= pd.read_csv(\"/content/train.csv\")\n",
        "dataFrame.head()\n",
        "print(dataFrame['SalePrice'].describe())\n",
        "\n",
        "A= dataFrame[['GrLivArea', 'BsmtFullBath', 'BsmtHalfBath','BedroomAbvGr','FullBath','HalfBath']]\n",
        "B= dataFrame['SalePrice']\n",
        "\n",
        "A_train, A_text, B_train, B_test = train_test_split(A,B, random_state=1)\n",
        "\n",
        "mode1 = LinearRegression()\n",
        "mode1.fit(A_train,B_train)\n",
        "\n",
        "y_pred = mode1.predict(A_text)\n",
        "\n",
        "print('Mean squared error: %.2f' % mean_squared_error(B_test,y_pred))\n",
        "print('Coefficiant of determination: %.2f' % r2_score(B_test,y_pred))"
      ],
      "metadata": {
        "colab": {
          "base_uri": "https://localhost:8080/"
        },
        "id": "itKay_rvihfq",
        "outputId": "52a94b9c-e539-4616-d80d-80d303f26dcd"
      },
      "execution_count": 1,
      "outputs": [
        {
          "output_type": "stream",
          "name": "stdout",
          "text": [
            "count      1460.000000\n",
            "mean     180921.195890\n",
            "std       79442.502883\n",
            "min       34900.000000\n",
            "25%      129975.000000\n",
            "50%      163000.000000\n",
            "75%      214000.000000\n",
            "max      755000.000000\n",
            "Name: SalePrice, dtype: float64\n",
            "Mean squared error: 2114644656.06\n",
            "Coefficiant of determination: 0.69\n"
          ]
        }
      ]
    }
  ]
}